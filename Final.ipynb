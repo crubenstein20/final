{
 "cells": [
  {
   "cell_type": "code",
   "execution_count": null,
   "metadata": {},
   "outputs": [],
   "source": [
    "import os\n",
    "import numpy as np\n",
    "import pandas as pd\n",
    "from sklearn import preprocessing\n",
    "from sklearn.tree import DecisionTreeRegressor\n",
    "from sklearn.linear_model import LinearRegression\n",
    "from sklearn.model_selection import train_test_split\n",
    "import matplotlib.pyplot as plt\n",
    "import scipy.stats as stats\n",
    "from statsmodels import regression\n",
    "from keras.models import Sequential\n",
    "from keras.layers import Dense\n",
    "from keras.layers import LSTM\n",
    "from keras.layers import Dropout\n",
    "import requests\n",
    "from pprint import pprint\n",
    "import json\n",
    "import datetime"
   ]
  },
  {
   "cell_type": "code",
   "execution_count": null,
   "metadata": {},
   "outputs": [],
   "source": [
    "Companies = {'Apple':'AAPL','Amazon':'AMZN','Facebook':'FB','Netflix':'NFLX','Tesla':'TSLA'}\n",
    "print(Companies)"
   ]
  },
  {
   "cell_type": "code",
   "execution_count": null,
   "metadata": {},
   "outputs": [],
   "source": [
    "Stock = input(\"Which stock did the class choose?:\")"
   ]
  },
  {
   "cell_type": "code",
   "execution_count": null,
   "metadata": {},
   "outputs": [],
   "source": [
    "data = pd.read_csv(f'{Stock}.csv',index_col=\"Date\",parse_dates=True)\n",
    "data.shape"
   ]
  },
  {
   "cell_type": "code",
   "execution_count": null,
   "metadata": {},
   "outputs": [],
   "source": [
    "data.head()"
   ]
  },
  {
   "cell_type": "code",
   "execution_count": null,
   "metadata": {},
   "outputs": [],
   "source": [
    "data['Close'].plot(figsize=(18,8))\n",
    "plt.title(f'{Stock} Preformance Since 2016')\n",
    "plt.xlabel(\"Date\")\n",
    "plt.ylabel(\"Close Price($)\")\n",
    "#plt.savefig(f'{Stock}_since2016.png')"
   ]
  },
  {
   "cell_type": "code",
   "execution_count": null,
   "metadata": {},
   "outputs": [],
   "source": [
    "training_set = data['Close']\n",
    "training_set = pd.DataFrame(training_set)"
   ]
  },
  {
   "cell_type": "code",
   "execution_count": null,
   "metadata": {},
   "outputs": [],
   "source": [
    "#to normalize our data to values between 0 and 1\n",
    "from sklearn.preprocessing import MinMaxScaler\n",
    "sc = MinMaxScaler(feature_range = (0,1))\n",
    "training_set_scaled = sc.fit_transform(training_set)"
   ]
  },
  {
   "cell_type": "code",
   "execution_count": null,
   "metadata": {},
   "outputs": [],
   "source": [
    "#we'll use those prior 90 days to train (thought process of 1 economic quarter)\n",
    "\n",
    "X_train = []\n",
    "y_train = []\n",
    "for i in range(90,1167):\n",
    "    X_train.append(training_set_scaled[i-90:i, 0])\n",
    "    y_train.append(training_set_scaled[i, 0])\n",
    "X_train, y_train = np.array(X_train), np.array(y_train)\n",
    "\n",
    "X_train = np.reshape(X_train, (X_train.shape[0], X_train.shape[1], 1))"
   ]
  },
  {
   "cell_type": "code",
   "execution_count": null,
   "metadata": {},
   "outputs": [],
   "source": [
    "regressor = Sequential()\n",
    "regressor.add(LSTM(units = 50, return_sequences = True, input_shape = (X_train.shape[1],1)))\n",
    "regressor.add(Dropout(0.2))#reduce overfitting\n",
    "\n",
    "regressor.add(LSTM(units = 50, return_sequences = True))#add a layer\n",
    "regressor.add(Dropout(0.2))\n",
    "\n",
    "regressor.add(LSTM(units = 50, return_sequences = True))#add another layer\n",
    "regressor.add(Dropout(0.2))\n",
    "\n",
    "regressor.add(LSTM(units = 50))\n",
    "regressor.add(Dropout(0.2))\n",
    "\n",
    "regressor.add(Dense(units = 1))"
   ]
  },
  {
   "cell_type": "code",
   "execution_count": null,
   "metadata": {},
   "outputs": [],
   "source": [
    "#Adam\n",
    "#(theta sub(t +1)) = (theta sub(t)) - [ (eta)/sqrt(v sub(t) + epilson) * m sub(t)]\n",
    "#include weight, but don't let outliers overweigh the model\n",
    "\n",
    "regressor.compile(optimizer = 'adam', loss = 'mean_squared_error')\n",
    "regressor.fit(X_train, y_train, epochs = 10, batch_size = 64)"
   ]
  },
  {
   "cell_type": "code",
   "execution_count": null,
   "metadata": {},
   "outputs": [],
   "source": [
    "days_out = 90\n",
    "data['Prediction'] = data[['Close']].shift(-days_out)\n",
    "data.tail(10)"
   ]
  },
  {
   "cell_type": "code",
   "execution_count": null,
   "metadata": {
    "scrolled": true
   },
   "outputs": [],
   "source": [
    "X = np.array(data.drop(['Prediction'],1))\n",
    "X = X[:-days_out]\n",
    "#print(X)\n",
    "\n",
    "y = np.array(data['Prediction'])\n",
    "y = y[:-days_out]\n",
    "#print(y)"
   ]
  },
  {
   "cell_type": "code",
   "execution_count": null,
   "metadata": {},
   "outputs": [],
   "source": [
    "#train on 80% test on 20%\n",
    "X_train, x_test, y_train, y_test = train_test_split(X, y, test_size=0.2)\n",
    "lr = LinearRegression()\n",
    "lr.fit(X_train, y_train)"
   ]
  },
  {
   "cell_type": "code",
   "execution_count": null,
   "metadata": {},
   "outputs": [],
   "source": [
    "confidence = lr.score(x_test, y_test)\n",
    "print(f'lr confidence: {confidence}')"
   ]
  },
  {
   "cell_type": "code",
   "execution_count": null,
   "metadata": {},
   "outputs": [],
   "source": [
    "x_forecast = np.array(data.drop(['Prediction'],1))[-days_out:]\n",
    "#print(x_forecast)\n",
    "lr_prediction = lr.predict(x_forecast)\n",
    "print(lr_prediction)"
   ]
  },
  {
   "cell_type": "code",
   "execution_count": null,
   "metadata": {},
   "outputs": [],
   "source": [
    "#iterate through data table, find values will labeled NaN, then insert prediction values found above\n",
    "import math\n",
    "counter = 0\n",
    "for i in range(len(data)):\n",
    "    print(math.isnan(data['Prediction'][i]))\n",
    "    \n",
    "    if math.isnan(data['Prediction'][i]):\n",
    "        data['Prediction'][i] = lr_prediction[counter]\n",
    "        #print(lr_prediction[counter])\n",
    "        #print(counter)\n",
    "        counter+=1\n",
    "        #print(counter)\n",
    "    else:\n",
    "        pass"
   ]
  },
  {
   "cell_type": "code",
   "execution_count": null,
   "metadata": {},
   "outputs": [],
   "source": [
    "data.tail()"
   ]
  },
  {
   "cell_type": "code",
   "execution_count": null,
   "metadata": {},
   "outputs": [],
   "source": [
    "#plotting the predictions vs actual close price\n",
    "data2 = data\n",
    "data2[['Close','Prediction']].plot(figsize=(18,8))\n",
    "\n",
    "#modify ylim to class stock pick\n",
    "data2[['Close','Prediction']].plot(figsize=(18,8), xlim=('2020-05-15','2020-08-20'), ylim=(275,550))\n",
    "\n",
    "plt.title(f'{Stock} Preformance in the last Month')\n",
    "plt.xlabel(\"Date\")\n",
    "plt.ylabel(\"Close Price($)\")"
   ]
  },
  {
   "cell_type": "markdown",
   "metadata": {},
   "source": [
    "We are going to implement a trading strategy following momentum using Dual Moving Averages, also known as Moving Average Crossover. It is a popular technical trading strategy for investors; who do not have the time to Day Trade, find entry and exit positions with a security. \"Day Trading is simply buying and selling a single security within a single day\" (Kuepper, 2020). There are infinite combinations using moving averages to find change in direction. For demonstration purposes, I will just use 2 simple moving averages."
   ]
  },
  {
   "cell_type": "code",
   "execution_count": null,
   "metadata": {},
   "outputs": [],
   "source": [
    "#how manys days into the past should we look to make the moving averages (I chose a couple numbers from fibonacci seq.)\n",
    "# 8 days / 34 days\n",
    "#make a column where the computer confirms if the moving averages cross eachother by making it a -1,0, or 1\n",
    "signal = pd.DataFrame(index=data.index)\n",
    "signal['signal'] = 0.0\n",
    "\n",
    "signal['Fast_SMA'] = data['Close'].rolling(window=8, min_periods=1, center=False).mean()\n",
    "signal['Slow_SMA'] = data['Close'].rolling(window=34, min_periods=1, center=False).mean()\n",
    "\n",
    "#Generate signals when moving averages cross, have to keep the window the same bc it is a boolean\n",
    "signal['signal'][8:] = np.where(signal['Fast_SMA'][8:] > signal['Slow_SMA'][8:], 1.0, 0.0)   \n",
    "\n",
    "# If new row is different than the previous row, make signal change\n",
    "signal['positions'] = signal['signal'].diff()\n",
    "#signal"
   ]
  },
  {
   "cell_type": "code",
   "execution_count": null,
   "metadata": {},
   "outputs": [],
   "source": [
    "#when the fast moving average moves above the slow moving average, we'll initiate a buy signal\n",
    "buy = signal.loc[signal.positions == 1.0]\n",
    "buy['Buy'] = str('Buy')\n",
    "buy.to_csv(f'{Stock}buyDates.csv')\n",
    "buy.head()"
   ]
  },
  {
   "cell_type": "code",
   "execution_count": null,
   "metadata": {},
   "outputs": [],
   "source": [
    "#when the fast moving average moves below the slow moving average, we'll initiate a sell signal\n",
    "sell = signal.loc[signal.positions == -1.0]\n",
    "sell['Sell'] = str('Sell')\n",
    "sell.to_csv(f'{Stock}sellDates.csv')\n",
    "#sell"
   ]
  },
  {
   "cell_type": "code",
   "execution_count": null,
   "metadata": {},
   "outputs": [],
   "source": [
    "#combine buys and sells into one seperate dataframe to filter through later for news\n",
    "buysandsells = pd.concat([buy,sell], axis=1)\n",
    "buysandsells"
   ]
  },
  {
   "cell_type": "code",
   "execution_count": null,
   "metadata": {
    "scrolled": true
   },
   "outputs": [],
   "source": [
    "buysandsells2 = buysandsells.reset_index('Date')\n",
    "buysandsells2"
   ]
  },
  {
   "cell_type": "code",
   "execution_count": null,
   "metadata": {},
   "outputs": [],
   "source": [
    "#get the last signal date and let's take a look at the news trending on that date\n",
    "df5 = str(buysandsells2.iloc[-1,:]['Date']).split(\" \")\n",
    "last_signal = df5[0]\n",
    "last_signal\n",
    "#print(f'The last trade signal was on: {last_signal}')"
   ]
  },
  {
   "cell_type": "code",
   "execution_count": null,
   "metadata": {},
   "outputs": [],
   "source": [
    "last_signal_news = requests.get(f'https://finnhub.io/api/v1/company-news?symbol={Stock}&from={last_signal}&to={last_signal}&token=')\n",
    "pprint(last_signal_news.json())"
   ]
  },
  {
   "cell_type": "code",
   "execution_count": null,
   "metadata": {},
   "outputs": [],
   "source": [
    "json_response = last_signal_news.json()\n",
    "for i in range(len(json_response)):\n",
    "    yellow = datetime.datetime.fromtimestamp(int(json_response[i]['datetime'])).strftime('%Y-%m-%d %H:%M:%S')\n",
    "    print(f'({Stock})', yellow)\n",
    "    print(json_response[i]['headline'])\n",
    "    print(json_response[i]['url'])\n",
    "    print()"
   ]
  },
  {
   "cell_type": "code",
   "execution_count": null,
   "metadata": {},
   "outputs": [],
   "source": [
    "#put it all together to plot\n",
    "combo = pd.concat([data, buysandsells], axis=1)\n",
    "#combo.to_csv('combo.csv')\n",
    "combo"
   ]
  },
  {
   "cell_type": "code",
   "execution_count": null,
   "metadata": {
    "scrolled": true
   },
   "outputs": [],
   "source": [
    "fig = plt.figure(figsize=(18,5))\n",
    "ax1 = fig.add_subplot(title=f'{Stock}\\'s Preformace since 2016', ylabel='Price (USD)')\n",
    "data['Close'].plot(ax=ax1)\n",
    "data[['Close']].plot(ax=ax1, color='black', lw=2)\n",
    "signal[['Fast_SMA', 'Slow_SMA']].plot(ax=ax1)\n",
    "\n",
    "#buy signals with green triangles\n",
    "buy = ax1.plot(signal.loc[signal.positions == 1.0].index, signal.Fast_SMA[signal.positions == 1.0],'g^', markersize=10, color='g')\n",
    "buy\n",
    "#sell signals with red triangles\n",
    "sell = ax1.plot(signal.loc[signal.positions == -1.0].index, signal.Fast_SMA[signal.positions == -1.0],'v', markersize=10, color='red')\n",
    "sell\n",
    "\n",
    "#plt.savefig(f'{Stock}_entryexits.png')\n",
    "plt"
   ]
  },
  {
   "cell_type": "markdown",
   "metadata": {},
   "source": [
    "Time to put it to the test against the analysts' recommendations!"
   ]
  },
  {
   "cell_type": "code",
   "execution_count": null,
   "metadata": {},
   "outputs": [],
   "source": [
    "playground_money = float(input(\"How much money would you like to start with?:\"))"
   ]
  },
  {
   "cell_type": "code",
   "execution_count": null,
   "metadata": {},
   "outputs": [],
   "source": [
    "#make a new dataframe to find out total percentage returns to compare to analyst returns\n",
    "\n",
    "positions = pd.DataFrame(index=signal.index).fillna(0.0)\n",
    "positions[f'Shares of {Stock}'] = (playground_money/(combo['Close']))*signal['signal']   \n",
    "portfolio = positions.multiply(data['Close'], axis=0)\n",
    "pos_diff = positions.diff()\n",
    "portfolio['holdings'] = (positions.multiply(data['Close'], axis=0)).sum(axis=1)\n",
    "portfolio['cash'] = playground_money - (pos_diff.multiply(data['Close'], axis=0)).sum(axis=1).cumsum()   \n",
    "portfolio['total'] = portfolio['cash'] + portfolio['holdings']\n",
    "#print(portfolio)\n",
    "print(\"---------------------\")\n",
    "\n",
    "purple = portfolio['cash'].iloc[-1]\n",
    "total_return = (purple - playground_money)/playground_money*100\n",
    "print(f'Starting Capital = ${playground_money}')\n",
    "print(f'Ending Capital = ${round(purple,2)}')\n",
    "print(f'Net percentage return: {round(total_return,2)}%')\n",
    "print(\"---------------------\")"
   ]
  },
  {
   "cell_type": "code",
   "execution_count": null,
   "metadata": {},
   "outputs": [],
   "source": [
    "#to see our buy and sell signals\n",
    "number_of_shares = []\n",
    "total = []\n",
    "\n",
    "for i in range(len(combo)):\n",
    "    if combo['Buy'][i] == 'Buy':\n",
    "        number_of_shares = playground_money/(combo['Close'][i])\n",
    "        a = combo['Close'][i]\n",
    "        print(f'Bought at ${round(a,2)} a share.')\n",
    "        \n",
    "    elif combo['Sell'][i] == 'Sell':\n",
    "        sold = combo['Close'][i]\n",
    "        total = int(number_of_shares)*(combo['Close'][i])\n",
    "        \n",
    "        net_returns = round(total - playground_money,2)\n",
    "        percent_return = round(net_returns/playground_money,2)\n",
    "    \n",
    "        print(f'Sold at ${round(sold,2)} a share.')\n",
    "        print('-----------------')\n",
    "        print()\n",
    "        \n",
    "    else:\n",
    "        pass"
   ]
  },
  {
   "cell_type": "code",
   "execution_count": null,
   "metadata": {},
   "outputs": [],
   "source": []
  },
  {
   "cell_type": "markdown",
   "metadata": {},
   "source": [
    "If we wanted to explore a decision tree method and test that accuracy. How does a Decision Tree Regressor work?\n",
    "\"Given a data point you run it through the entirely tree asking True/False questions up until it reaches a leaf node. The final prediction is the average of the value of the dependent variable in that leaf node\" (Drakos, 2019)."
   ]
  },
  {
   "cell_type": "code",
   "execution_count": null,
   "metadata": {},
   "outputs": [],
   "source": [
    "econ_quarter = 90\n",
    "data['Prediction'] = data[['Close']].shift(-econ_quarter)\n",
    "data.tail()"
   ]
  },
  {
   "cell_type": "code",
   "execution_count": null,
   "metadata": {},
   "outputs": [],
   "source": [
    "X = np.array(data.drop(['Prediction'],1))[:-econ_quarter]\n",
    "print(X)"
   ]
  },
  {
   "cell_type": "code",
   "execution_count": null,
   "metadata": {},
   "outputs": [],
   "source": [
    "y = np.array(data['Prediction'])[:-econ_quarter]\n",
    "print(y)"
   ]
  },
  {
   "cell_type": "code",
   "execution_count": null,
   "metadata": {},
   "outputs": [],
   "source": [
    "X_train, x_test, y_train, y_test = train_test_split(X, y, test_size=0.2)"
   ]
  },
  {
   "cell_type": "code",
   "execution_count": null,
   "metadata": {},
   "outputs": [],
   "source": [
    "dtree = DecisionTreeRegressor().fit(X_train, y_train)\n",
    "lin_reg = LinearRegression().fit(X_train, y_train)"
   ]
  },
  {
   "cell_type": "code",
   "execution_count": null,
   "metadata": {},
   "outputs": [],
   "source": [
    "x_future = data.drop(['Prediction'],1)[:-econ_quarter]\n",
    "x_future = x_future.tail(econ_quarter)\n",
    "x_future = np.array(x_future)\n",
    "x_future"
   ]
  },
  {
   "cell_type": "code",
   "execution_count": null,
   "metadata": {},
   "outputs": [],
   "source": [
    "tree_prediction = dtree.predict(x_future)\n",
    "print(tree_prediction)"
   ]
  },
  {
   "cell_type": "code",
   "execution_count": null,
   "metadata": {},
   "outputs": [],
   "source": [
    "actual_close = data[X.shape[0]:]\n",
    "#actual_close\n",
    "actual_close['Predictions'] = tree_prediction\n",
    "plt.figure(figsize=(18,8))\n",
    "plt.plot(data['Close'])\n",
    "plt.plot(actual_close[['Close','Predictions']])\n",
    "\n",
    "plt.title('Predictions')\n",
    "plt.xlabel('Date')\n",
    "plt.ylabel('Close ($)')\n",
    "plt.legend(['Original','Actual_Close','Predictions'])\n",
    "plt"
   ]
  },
  {
   "cell_type": "code",
   "execution_count": null,
   "metadata": {},
   "outputs": [],
   "source": [
    "actual_close2 = data[X.shape[0]:]\n",
    "#actual_close2\n",
    "actual_close2['Prediction'] = tree_prediction\n",
    "actual_close2\n",
    "\n",
    "\n",
    "actual_close2[['Close','Prediction']].plot(figsize=(18,8), xlim=('2020-04-15','2020-08-20'), ylim=(220,600))\n",
    "\n",
    "#plt2.legend(['Original','Actual','Predictions'])\n",
    "#plt2.title('Predictions')\n",
    "#plt2.xlabel('Date')\n",
    "#plt2.ylabel('Close ($)')\n"
   ]
  },
  {
   "cell_type": "code",
   "execution_count": null,
   "metadata": {},
   "outputs": [],
   "source": [
    "#predictions and actual close with 8, 34, and 200 moving averages\n",
    "\n",
    "data['Close: 8 Day MA'] = data['Close'].rolling(window=8).mean()\n",
    "data['Close: 34 Day MA'] = data['Close'].rolling(window=34).mean()\n",
    "data['Close: 200 Day MA'] = data['Close'].rolling(window=200).mean()\n",
    "plt1 = data[['Close','Prediction','Close: 8 Day MA','Close: 34 Day MA','Close: 200 Day MA']].plot(figsize=(18,8))\n",
    "plt2 = data[['Close','Prediction','Close: 8 Day MA','Close: 34 Day MA','Close: 200 Day MA']].plot(figsize=(18,8), xlim=(\"2019-11-30\",\"2020-08-20\"), ylim=(230,600))\n",
    "plt1\n",
    "plt2"
   ]
  },
  {
   "cell_type": "code",
   "execution_count": null,
   "metadata": {},
   "outputs": [],
   "source": [
    "#import ResearchTeam's suggestions\n",
    "import matplotlib.image as mping\n",
    "img = mping.imread(f'{Stock}_RT.png')\n",
    "plt.figure(figsize=(20,20))\n",
    "plt.imshow(img)"
   ]
  },
  {
   "cell_type": "code",
   "execution_count": null,
   "metadata": {},
   "outputs": [],
   "source": [
    "References\n",
    "\n",
    "Brownlee, J. (August 20, 2020). Time Series Prediction with LSTM Recurrent Neural Networks in Python with Keras. Retrived from https://machinelearningmastery.com/time-series-prediction-lstm-recurrent-neural-networks-python-keras/\n",
    "\n",
    "Drakos, G. (May 23, 2019). Decision Tree Regressor explained in depth. Retrieved from https://gdcoder.com/decision-tree-regressor-explained-in-depth/\n",
    "\n",
    "Hayes, A. (Mar 26, 2020). Simple Moving Average (SMA). Retreived from https://www.investopedia.com/terms/s/sma.asp  \n",
    "\n",
    "Kenton, W. (Feb 6, 2020). Black Scholes Model. Retrieved from https://www.investopedia.com/terms/b/blackscholes.asp \n",
    "\n",
    "Kenton, W. (May 17, 2020). Merton Model Defintion. Retrived from https://www.investopedia.com/terms/m/mertonmodel.asp \n",
    "\n",
    "Kuepper, J. (Aug 11,2020). Day Trading: An Introduction. Retrieved from https://www.investopedia.com/articles/trading/05/011705.asp\n",
    "\n",
    "(n.d.) Retrived from https://finnhub.io/docs/api#company-news\n"
   ]
  }
 ],
 "metadata": {
  "kernelspec": {
   "display_name": "Python 3",
   "language": "python",
   "name": "python3"
  },
  "language_info": {
   "codemirror_mode": {
    "name": "ipython",
    "version": 3
   },
   "file_extension": ".py",
   "mimetype": "text/x-python",
   "name": "python",
   "nbconvert_exporter": "python",
   "pygments_lexer": "ipython3",
   "version": "3.7.4"
  }
 },
 "nbformat": 4,
 "nbformat_minor": 2
}
